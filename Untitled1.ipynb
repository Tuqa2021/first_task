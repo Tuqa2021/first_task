{
 "cells": [
  {
   "cell_type": "code",
   "execution_count": 7,
   "id": "985ae0bf",
   "metadata": {},
   "outputs": [],
   "source": [
    "# 'generic import' of math module\n",
    "import math\n",
    "from typing import List"
   ]
  },
  {
   "cell_type": "code",
   "execution_count": 8,
   "id": "8544126a",
   "metadata": {},
   "outputs": [
    {
     "name": "stdout",
     "output_type": "stream",
     "text": [
      "Enter a list of positive integers separated by spaces: 800 100 600 \n",
      "The GCD of the numbers is: 100\n"
     ]
    }
   ],
   "source": [
    "#function calculate the gcd of two positive int \n",
    "\n",
    "def gcd_two_numbers(a: int, b: int) -> int:\n",
    "    while b:\n",
    "        a, b = b, a % b\n",
    "    return a\n",
    "\n",
    "def gcd_numbers(numbers: List[int]) -> int:\n",
    "    if not numbers:\n",
    "        raise ValueError(\"Input list is empty\")\n",
    "\n",
    "    result = numbers[0]\n",
    "    for num in numbers[1:]:\n",
    "        result = gcd_two_numbers(result, num)\n",
    "    return result\n",
    "\n",
    "def get_numbers() -> List[int]:\n",
    "    while True:\n",
    "        try:\n",
    "            input_str = input(\"Enter a list of positive integers separated by spaces: \")\n",
    "            input_numbers = [int(num) for num in input_str.split()]\n",
    "            if all(num >= 0 for num in input_numbers):\n",
    "                return input_numbers\n",
    "            else:\n",
    "                raise ValueError(\"All numbers must be positive integers\")\n",
    "        except ValueError as e:\n",
    "            print(f\"Error: {e}. Please try again.\")\n",
    "\n",
    "if __name__ == \"__main__\":\n",
    "    try:\n",
    "        numbers = get_numbers()\n",
    "        gcd = gcd_numbers(numbers)\n",
    "        print(f\"The GCD of the numbers is: {gcd}\")\n",
    "    except KeyboardInterrupt:\n",
    "        print(\"\\nUser interrupted the program.\")\n",
    "    except Exception as e:\n",
    "        print(f\"An error occurred: {e}\")\n"
   ]
  },
  {
   "cell_type": "code",
   "execution_count": 9,
   "id": "60d69b7d",
   "metadata": {},
   "outputs": [
    {
     "name": "stdout",
     "output_type": "stream",
     "text": [
      "Enter the title of the book to search for (or 'exit' to quit): Nature of Statistical Learning Theory, The\n",
      "Book found: Nature of Statistical Learning Theory, The by Vapnik,  Vladimir, published in 230\n",
      "Enter the title of the book to search for (or 'exit' to quit): exit\n"
     ]
    }
   ],
   "source": [
    "import csv\n",
    "from typing import List, Dict, Union\n",
    "\n",
    "def add_book(title: str, authors: List[str], year: int) -> Dict[str, Union[str, List[str], int]]:\n",
    "    book = {\n",
    "        'title': title,\n",
    "        'authors': authors,\n",
    "        'year': year\n",
    "    }\n",
    "    return book\n",
    "\n",
    "def search_book(library: List[Dict[str, Union[str, List[str], int]]], title: str) -> Union[Dict[str, Union[str, List[str], int]], None]:\n",
    "    for book in library:\n",
    "        if book['title'] == title:\n",
    "            return book\n",
    "    return None\n",
    "\n",
    "def load_books() -> List[Dict[str, Union[str, List[str], int]]]:\n",
    "    books = []\n",
    "    try:\n",
    "        with open('books.csv', mode='r', newline='') as file:\n",
    "            reader = csv.reader(file)\n",
    "            for row in reader:\n",
    "                if len(row) != 3:\n",
    "                    raise ValueError(\"Invalid format in CSV file. Each line should have title, authors, and year separated by commas.\")\n",
    "                title, authors_str, year_str = row\n",
    "                authors = authors_str.split(',')\n",
    "                year = year_str\n",
    "                books.append(add_book(title, authors, year))\n",
    "        return books\n",
    "    except FileNotFoundError:\n",
    "        raise ValueError(\"books.csv file not found.\")\n",
    "    except ValueError as e:\n",
    "        raise ValueError(f\"Error in CSV file: {e}\")\n",
    "\n",
    "if __name__ == \"__main__\":\n",
    "    try:\n",
    "        library = load_books()\n",
    "        while True:\n",
    "            title = input(\"Enter the title of the book to search for (or 'exit' to quit): \")\n",
    "            if title.lower() == 'exit':\n",
    "                break\n",
    "            book = search_book(library, title)\n",
    "            if book:\n",
    "                print(f\"Book found: {book['title']} by {', '.join(book['authors'])}, published in {book['year']}\")\n",
    "            else:\n",
    "                print(\"Book not found in the library.\")\n",
    "    except ValueError as e:\n",
    "        print(f\"An error occurred: {e}\")\n",
    "    except KeyboardInterrupt:\n",
    "        print(\"\\nUser interrupted the program.\")\n"
   ]
  },
  {
   "cell_type": "code",
   "execution_count": null,
   "id": "09a99691",
   "metadata": {},
   "outputs": [],
   "source": []
  }
 ],
 "metadata": {
  "kernelspec": {
   "display_name": "Python 3",
   "language": "python",
   "name": "python3"
  },
  "language_info": {
   "codemirror_mode": {
    "name": "ipython",
    "version": 3
   },
   "file_extension": ".py",
   "mimetype": "text/x-python",
   "name": "python",
   "nbconvert_exporter": "python",
   "pygments_lexer": "ipython3",
   "version": "3.8.8"
  }
 },
 "nbformat": 4,
 "nbformat_minor": 5
}
